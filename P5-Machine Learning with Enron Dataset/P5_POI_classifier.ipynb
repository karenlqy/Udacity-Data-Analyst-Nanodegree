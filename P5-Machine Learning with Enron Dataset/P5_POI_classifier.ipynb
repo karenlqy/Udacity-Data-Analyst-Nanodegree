{
 "cells": [
  {
   "cell_type": "markdown",
   "metadata": {
    "deletable": true,
    "editable": true
   },
   "source": [
    "# Person of Interest (POI) Classifier for Enron Data"
   ]
  },
  {
   "cell_type": "markdown",
   "metadata": {
    "deletable": true,
    "editable": true
   },
   "source": [
    "Qingyu Li"
   ]
  },
  {
   "cell_type": "markdown",
   "metadata": {
    "deletable": true,
    "editable": true
   },
   "source": [
    "## 1. Project Overview"
   ]
  },
  {
   "cell_type": "markdown",
   "metadata": {
    "deletable": true,
    "editable": true
   },
   "source": [
    "In 2000, Enron was one of the largest companies in the United States. By 2002, it had collapsed into bankruptcy due to widespread corporate fraud. In the resulting Federal investigation, there was a significant amount of typically confidential information entered into public record, including tens of thousands of emails and detailed financial data for top executives. In this project, we will find features that provide useful information and build a person of interest identifier. We will test the accuracy of prediction of our classifier and find the best predicting model."
   ]
  },
  {
   "cell_type": "markdown",
   "metadata": {
    "deletable": true,
    "editable": true
   },
   "source": [
    "## 2. Data Preparation"
   ]
  },
  {
   "cell_type": "code",
   "execution_count": 1,
   "metadata": {
    "collapsed": false,
    "deletable": true,
    "editable": true
   },
   "outputs": [],
   "source": [
    "import sys\n",
    "import pickle\n",
    "import numpy\n",
    "import pandas as pd\n",
    "import matplotlib\n",
    "\n",
    "from ggplot import *\n",
    "\n",
    "sys.path.append(\"../tools/\")\n",
    "\n",
    "from sklearn.tree import DecisionTreeClassifier\n",
    "from sklearn.metrics import accuracy_score\n",
    "from sklearn.metrics import recall_score\n",
    "from sklearn.metrics import precision_score\n",
    "from feature_format import featureFormat, targetFeatureSplit\n",
    "\n",
    "target_label = 'poi'\n",
    "email_features_list = [\n",
    "    # 'email_address', # remit email address; informational label\n",
    "    'from_messages',\n",
    "    'from_poi_to_this_person',\n",
    "    'from_this_person_to_poi',\n",
    "    'shared_receipt_with_poi',\n",
    "    'to_messages',\n",
    "    ]\n",
    "financial_features_list = [\n",
    "    'bonus',\n",
    "    'deferral_payments',\n",
    "    'deferred_income',\n",
    "    'director_fees',\n",
    "    'exercised_stock_options',\n",
    "    'expenses',\n",
    "    'loan_advances',\n",
    "    'long_term_incentive',\n",
    "    'other',\n",
    "    'restricted_stock',\n",
    "    'restricted_stock_deferred',\n",
    "    'salary',\n",
    "    'total_payments',\n",
    "    'total_stock_value',\n",
    "]\n",
    "features_list = [target_label] + financial_features_list + email_features_list"
   ]
  },
  {
   "cell_type": "code",
   "execution_count": 2,
   "metadata": {
    "collapsed": true,
    "deletable": true,
    "editable": true
   },
   "outputs": [],
   "source": [
    "### Load the dictionary containing the dataset\n",
    "data_dict = pickle.load(open(\"final_project_dataset.pkl\", \"r\") )\n",
    "## Load POI names file\n",
    "poi = open(\"poi_names.txt\", \"r\")"
   ]
  },
  {
   "cell_type": "markdown",
   "metadata": {
    "deletable": true,
    "editable": true
   },
   "source": [
    "How many people are in the dataset?"
   ]
  },
  {
   "cell_type": "code",
   "execution_count": 5,
   "metadata": {
    "collapsed": false,
    "deletable": true,
    "editable": true
   },
   "outputs": [
    {
     "data": {
      "text/plain": [
       "146"
      ]
     },
     "execution_count": 5,
     "metadata": {},
     "output_type": "execute_result"
    }
   ],
   "source": [
    "len(data_dict.keys())"
   ]
  },
  {
   "cell_type": "markdown",
   "metadata": {
    "deletable": true,
    "editable": true
   },
   "source": [
    "How many features are in the dataset?"
   ]
  },
  {
   "cell_type": "code",
   "execution_count": 6,
   "metadata": {
    "collapsed": false,
    "deletable": true,
    "editable": true
   },
   "outputs": [
    {
     "data": {
      "text/plain": [
       "21"
      ]
     },
     "execution_count": 6,
     "metadata": {},
     "output_type": "execute_result"
    }
   ],
   "source": [
    "len(data_dict.values()[0])"
   ]
  },
  {
   "cell_type": "markdown",
   "metadata": {
    "deletable": true,
    "editable": true
   },
   "source": [
    "From the above, we can see that there are 146 people in this dataset and 21 features in total. Next we print out an example of the data point for better understanding."
   ]
  },
  {
   "cell_type": "code",
   "execution_count": 7,
   "metadata": {
    "collapsed": false,
    "deletable": true,
    "editable": true,
    "scrolled": true
   },
   "outputs": [
    {
     "data": {
      "text/plain": [
       "{'bonus': 600000,\n",
       " 'deferral_payments': 'NaN',\n",
       " 'deferred_income': 'NaN',\n",
       " 'director_fees': 'NaN',\n",
       " 'email_address': 'mark.metts@enron.com',\n",
       " 'exercised_stock_options': 'NaN',\n",
       " 'expenses': 94299,\n",
       " 'from_messages': 29,\n",
       " 'from_poi_to_this_person': 38,\n",
       " 'from_this_person_to_poi': 1,\n",
       " 'loan_advances': 'NaN',\n",
       " 'long_term_incentive': 'NaN',\n",
       " 'other': 1740,\n",
       " 'poi': False,\n",
       " 'restricted_stock': 585062,\n",
       " 'restricted_stock_deferred': 'NaN',\n",
       " 'salary': 365788,\n",
       " 'shared_receipt_with_poi': 702,\n",
       " 'to_messages': 807,\n",
       " 'total_payments': 1061827,\n",
       " 'total_stock_value': 585062}"
      ]
     },
     "execution_count": 7,
     "metadata": {},
     "output_type": "execute_result"
    }
   ],
   "source": [
    "data_dict[data_dict.keys()[0]]"
   ]
  },
  {
   "cell_type": "markdown",
   "metadata": {
    "deletable": true,
    "editable": true
   },
   "source": [
    "Convert data into data frame:"
   ]
  },
  {
   "cell_type": "code",
   "execution_count": 3,
   "metadata": {
    "collapsed": false,
    "deletable": true,
    "editable": true,
    "scrolled": true
   },
   "outputs": [],
   "source": [
    "# remove outlier key-value pair (errant total)\n",
    "data_dict.pop('TOTAL',0)\n",
    "data_dict.pop('LOCKHART EUGENE E', 0)\n",
    "# reload data after cleaning data outlier using pop to remove TOTAL line\n",
    "df=pd.DataFrame.from_records(list(data_dict.values()))"
   ]
  },
  {
   "cell_type": "markdown",
   "metadata": {
    "deletable": true,
    "editable": true
   },
   "source": [
    "First by eyebowing the data, I decided to remove the total row and one row with person name \"Lockhart Eugene E\" that has all the missing values. "
   ]
  },
  {
   "cell_type": "code",
   "execution_count": 4,
   "metadata": {
    "collapsed": false,
    "deletable": true,
    "editable": true
   },
   "outputs": [
    {
     "data": {
      "text/plain": [
       "(144, 21)"
      ]
     },
     "execution_count": 4,
     "metadata": {},
     "output_type": "execute_result"
    }
   ],
   "source": [
    "df.shape"
   ]
  },
  {
   "cell_type": "markdown",
   "metadata": {
    "deletable": true,
    "editable": true
   },
   "source": [
    "After removing the total line and the person with all NaN values, there are 144 key executives in the dataset with 21 features."
   ]
  },
  {
   "cell_type": "code",
   "execution_count": 5,
   "metadata": {
    "collapsed": false,
    "deletable": true,
    "editable": true
   },
   "outputs": [
    {
     "data": {
      "text/plain": [
       "18"
      ]
     },
     "execution_count": 5,
     "metadata": {},
     "output_type": "execute_result"
    }
   ],
   "source": [
    "len(df[df['poi']==1])"
   ]
  },
  {
   "cell_type": "markdown",
   "metadata": {
    "deletable": true,
    "editable": true
   },
   "source": [
    "There are 18 person of interest labeled in the dataset. "
   ]
  },
  {
   "cell_type": "markdown",
   "metadata": {
    "deletable": true,
    "editable": true
   },
   "source": [
    "### 2.1 Missing Values"
   ]
  },
  {
   "cell_type": "markdown",
   "metadata": {
    "deletable": true,
    "editable": true
   },
   "source": [
    "We can see that the missing value are coded as 'NaN'. Next we will need to deal with the 'NaN' and outliers."
   ]
  },
  {
   "cell_type": "code",
   "execution_count": 9,
   "metadata": {
    "collapsed": false,
    "deletable": true,
    "editable": true,
    "scrolled": true
   },
   "outputs": [
    {
     "data": {
      "text/html": [
       "<div>\n",
       "<table border=\"1\" class=\"dataframe\">\n",
       "  <thead>\n",
       "    <tr style=\"text-align: right;\">\n",
       "      <th></th>\n",
       "      <th>bonus</th>\n",
       "      <th>deferral_payments</th>\n",
       "      <th>deferred_income</th>\n",
       "      <th>director_fees</th>\n",
       "      <th>email_address</th>\n",
       "      <th>exercised_stock_options</th>\n",
       "      <th>expenses</th>\n",
       "      <th>from_messages</th>\n",
       "      <th>from_poi_to_this_person</th>\n",
       "      <th>from_this_person_to_poi</th>\n",
       "      <th>...</th>\n",
       "      <th>long_term_incentive</th>\n",
       "      <th>other</th>\n",
       "      <th>poi</th>\n",
       "      <th>restricted_stock</th>\n",
       "      <th>restricted_stock_deferred</th>\n",
       "      <th>salary</th>\n",
       "      <th>shared_receipt_with_poi</th>\n",
       "      <th>to_messages</th>\n",
       "      <th>total_payments</th>\n",
       "      <th>total_stock_value</th>\n",
       "    </tr>\n",
       "  </thead>\n",
       "  <tbody>\n",
       "    <tr>\n",
       "      <th>0</th>\n",
       "      <td>600000</td>\n",
       "      <td>NaN</td>\n",
       "      <td>NaN</td>\n",
       "      <td>NaN</td>\n",
       "      <td>mark.metts@enron.com</td>\n",
       "      <td>NaN</td>\n",
       "      <td>94299</td>\n",
       "      <td>29</td>\n",
       "      <td>38</td>\n",
       "      <td>1</td>\n",
       "      <td>...</td>\n",
       "      <td>NaN</td>\n",
       "      <td>1740</td>\n",
       "      <td>False</td>\n",
       "      <td>585062</td>\n",
       "      <td>NaN</td>\n",
       "      <td>365788</td>\n",
       "      <td>702</td>\n",
       "      <td>807</td>\n",
       "      <td>1061827</td>\n",
       "      <td>585062</td>\n",
       "    </tr>\n",
       "    <tr>\n",
       "      <th>1</th>\n",
       "      <td>1200000</td>\n",
       "      <td>1295738</td>\n",
       "      <td>-1386055</td>\n",
       "      <td>NaN</td>\n",
       "      <td>NaN</td>\n",
       "      <td>6680544</td>\n",
       "      <td>11200</td>\n",
       "      <td>NaN</td>\n",
       "      <td>NaN</td>\n",
       "      <td>NaN</td>\n",
       "      <td>...</td>\n",
       "      <td>1586055</td>\n",
       "      <td>2660303</td>\n",
       "      <td>False</td>\n",
       "      <td>3942714</td>\n",
       "      <td>NaN</td>\n",
       "      <td>267102</td>\n",
       "      <td>NaN</td>\n",
       "      <td>NaN</td>\n",
       "      <td>5634343</td>\n",
       "      <td>10623258</td>\n",
       "    </tr>\n",
       "    <tr>\n",
       "      <th>2</th>\n",
       "      <td>350000</td>\n",
       "      <td>NaN</td>\n",
       "      <td>-400729</td>\n",
       "      <td>NaN</td>\n",
       "      <td>steven.elliott@enron.com</td>\n",
       "      <td>4890344</td>\n",
       "      <td>78552</td>\n",
       "      <td>NaN</td>\n",
       "      <td>NaN</td>\n",
       "      <td>NaN</td>\n",
       "      <td>...</td>\n",
       "      <td>NaN</td>\n",
       "      <td>12961</td>\n",
       "      <td>False</td>\n",
       "      <td>1788391</td>\n",
       "      <td>NaN</td>\n",
       "      <td>170941</td>\n",
       "      <td>NaN</td>\n",
       "      <td>NaN</td>\n",
       "      <td>211725</td>\n",
       "      <td>6678735</td>\n",
       "    </tr>\n",
       "    <tr>\n",
       "      <th>3</th>\n",
       "      <td>NaN</td>\n",
       "      <td>NaN</td>\n",
       "      <td>NaN</td>\n",
       "      <td>NaN</td>\n",
       "      <td>bill.cordes@enron.com</td>\n",
       "      <td>651850</td>\n",
       "      <td>NaN</td>\n",
       "      <td>12</td>\n",
       "      <td>10</td>\n",
       "      <td>0</td>\n",
       "      <td>...</td>\n",
       "      <td>NaN</td>\n",
       "      <td>NaN</td>\n",
       "      <td>False</td>\n",
       "      <td>386335</td>\n",
       "      <td>NaN</td>\n",
       "      <td>NaN</td>\n",
       "      <td>58</td>\n",
       "      <td>764</td>\n",
       "      <td>NaN</td>\n",
       "      <td>1038185</td>\n",
       "    </tr>\n",
       "    <tr>\n",
       "      <th>4</th>\n",
       "      <td>1500000</td>\n",
       "      <td>NaN</td>\n",
       "      <td>-3117011</td>\n",
       "      <td>NaN</td>\n",
       "      <td>kevin.hannon@enron.com</td>\n",
       "      <td>5538001</td>\n",
       "      <td>34039</td>\n",
       "      <td>32</td>\n",
       "      <td>32</td>\n",
       "      <td>21</td>\n",
       "      <td>...</td>\n",
       "      <td>1617011</td>\n",
       "      <td>11350</td>\n",
       "      <td>True</td>\n",
       "      <td>853064</td>\n",
       "      <td>NaN</td>\n",
       "      <td>243293</td>\n",
       "      <td>1035</td>\n",
       "      <td>1045</td>\n",
       "      <td>288682</td>\n",
       "      <td>6391065</td>\n",
       "    </tr>\n",
       "  </tbody>\n",
       "</table>\n",
       "<p>5 rows × 21 columns</p>\n",
       "</div>"
      ],
      "text/plain": [
       "     bonus deferral_payments deferred_income director_fees  \\\n",
       "0   600000               NaN             NaN           NaN   \n",
       "1  1200000           1295738        -1386055           NaN   \n",
       "2   350000               NaN         -400729           NaN   \n",
       "3      NaN               NaN             NaN           NaN   \n",
       "4  1500000               NaN        -3117011           NaN   \n",
       "\n",
       "              email_address exercised_stock_options expenses from_messages  \\\n",
       "0      mark.metts@enron.com                     NaN    94299            29   \n",
       "1                       NaN                 6680544    11200           NaN   \n",
       "2  steven.elliott@enron.com                 4890344    78552           NaN   \n",
       "3     bill.cordes@enron.com                  651850      NaN            12   \n",
       "4    kevin.hannon@enron.com                 5538001    34039            32   \n",
       "\n",
       "  from_poi_to_this_person from_this_person_to_poi        ...         \\\n",
       "0                      38                       1        ...          \n",
       "1                     NaN                     NaN        ...          \n",
       "2                     NaN                     NaN        ...          \n",
       "3                      10                       0        ...          \n",
       "4                      32                      21        ...          \n",
       "\n",
       "  long_term_incentive    other    poi restricted_stock  \\\n",
       "0                 NaN     1740  False           585062   \n",
       "1             1586055  2660303  False          3942714   \n",
       "2                 NaN    12961  False          1788391   \n",
       "3                 NaN      NaN  False           386335   \n",
       "4             1617011    11350   True           853064   \n",
       "\n",
       "  restricted_stock_deferred  salary shared_receipt_with_poi to_messages  \\\n",
       "0                       NaN  365788                     702         807   \n",
       "1                       NaN  267102                     NaN         NaN   \n",
       "2                       NaN  170941                     NaN         NaN   \n",
       "3                       NaN     NaN                      58         764   \n",
       "4                       NaN  243293                    1035        1045   \n",
       "\n",
       "  total_payments total_stock_value  \n",
       "0        1061827            585062  \n",
       "1        5634343          10623258  \n",
       "2         211725           6678735  \n",
       "3            NaN           1038185  \n",
       "4         288682           6391065  \n",
       "\n",
       "[5 rows x 21 columns]"
      ]
     },
     "execution_count": 9,
     "metadata": {},
     "output_type": "execute_result"
    }
   ],
   "source": [
    "df.head()"
   ]
  },
  {
   "cell_type": "code",
   "execution_count": 4,
   "metadata": {
    "collapsed": false,
    "deletable": true,
    "editable": true
   },
   "outputs": [
    {
     "data": {
      "text/plain": [
       "bonus                         63\n",
       "deferral_payments            106\n",
       "deferred_income               96\n",
       "director_fees                128\n",
       "email_address                 33\n",
       "exercised_stock_options       43\n",
       "expenses                      50\n",
       "from_messages                 58\n",
       "from_poi_to_this_person       58\n",
       "from_this_person_to_poi       58\n",
       "loan_advances                141\n",
       "long_term_incentive           79\n",
       "other                         52\n",
       "poi                            0\n",
       "restricted_stock              35\n",
       "restricted_stock_deferred    127\n",
       "salary                        50\n",
       "shared_receipt_with_poi       58\n",
       "to_messages                   58\n",
       "total_payments                20\n",
       "total_stock_value             19\n",
       "dtype: int64"
      ]
     },
     "execution_count": 4,
     "metadata": {},
     "output_type": "execute_result"
    }
   ],
   "source": [
    "# Convert to numpy nan\n",
    "df.replace(to_replace='NaN', value=numpy.nan, inplace=True)\n",
    "df.isnull().sum()"
   ]
  },
  {
   "cell_type": "markdown",
   "metadata": {
    "deletable": true,
    "editable": true
   },
   "source": [
    "The above table prints out the number of NaNs for each features. We can see that the variables with most missing values are director fees and loan advances. In dealing with the missing data, I decided to remove variables that have more than 80% data missing. The reasoning is that since there are 144 people in the dataset, if a variable has more than 80% of the data points missing, it cannot provide enough information for training classifiers. For variables that have less missing values, we will use imputation using the median of that variable. 144*.8=115.2"
   ]
  },
  {
   "cell_type": "markdown",
   "metadata": {
    "deletable": true,
    "editable": true
   },
   "source": [
    "I decided to impute using median value since there are some extreme values that skewed the distribution. Therefore, median is more appropriate."
   ]
  },
  {
   "cell_type": "code",
   "execution_count": 5,
   "metadata": {
    "collapsed": false,
    "deletable": true,
    "editable": true
   },
   "outputs": [],
   "source": [
    "import sklearn\n",
    "# Removing column from database if counter > 116\n",
    "for column, series in df.iteritems():\n",
    "    if series.isnull().sum() >= 116:\n",
    "        df.drop(column, axis=1, inplace=True)\n",
    "# Drop email address column\n",
    "if 'email_address' in list(df.columns.values):\n",
    "    df.drop('email_address', axis=1, inplace=True)\n",
    "\n",
    "impute = sklearn.preprocessing.Imputer(missing_values=numpy.nan, strategy='median', axis=0)\n",
    "impute.fit(df)\n",
    "df_imputed = pd.DataFrame(impute.transform(df.copy(deep=True)))\n",
    "df_imputed.columns = list(df.columns.values)"
   ]
  },
  {
   "cell_type": "code",
   "execution_count": 8,
   "metadata": {
    "collapsed": false,
    "deletable": true,
    "editable": true
   },
   "outputs": [
    {
     "name": "stdout",
     "output_type": "stream",
     "text": [
      "(144, 17)\n"
     ]
    }
   ],
   "source": [
    "print df_imputed.shape"
   ]
  },
  {
   "cell_type": "code",
   "execution_count": 9,
   "metadata": {
    "collapsed": false,
    "deletable": true,
    "editable": true
   },
   "outputs": [
    {
     "name": "stdout",
     "output_type": "stream",
     "text": [
      "['poi', 'bonus', 'deferral_payments', 'deferred_income', 'director_fees', 'exercised_stock_options', 'expenses', 'loan_advances', 'long_term_incentive', 'other', 'restricted_stock', 'restricted_stock_deferred', 'salary', 'total_payments', 'total_stock_value', 'from_messages', 'from_poi_to_this_person', 'from_this_person_to_poi', 'shared_receipt_with_poi', 'to_messages']\n"
     ]
    }
   ],
   "source": [
    "print features_list"
   ]
  },
  {
   "cell_type": "code",
   "execution_count": 10,
   "metadata": {
    "collapsed": false,
    "deletable": true,
    "editable": true
   },
   "outputs": [
    {
     "data": {
      "text/plain": [
       "20"
      ]
     },
     "execution_count": 10,
     "metadata": {},
     "output_type": "execute_result"
    }
   ],
   "source": [
    "len(features_list)"
   ]
  },
  {
   "cell_type": "code",
   "execution_count": 6,
   "metadata": {
    "collapsed": false,
    "deletable": true,
    "editable": true
   },
   "outputs": [],
   "source": [
    "features_list.remove('loan_advances')\n",
    "features_list.remove('director_fees')\n",
    "features_list.remove('restricted_stock_deferred')"
   ]
  },
  {
   "cell_type": "code",
   "execution_count": 12,
   "metadata": {
    "collapsed": false,
    "deletable": true,
    "editable": true,
    "scrolled": false
   },
   "outputs": [
    {
     "name": "stdout",
     "output_type": "stream",
     "text": [
      "['poi', 'bonus', 'deferral_payments', 'deferred_income', 'exercised_stock_options', 'expenses', 'long_term_incentive', 'other', 'restricted_stock', 'salary', 'total_payments', 'total_stock_value', 'from_messages', 'from_poi_to_this_person', 'from_this_person_to_poi', 'shared_receipt_with_poi', 'to_messages']\n"
     ]
    }
   ],
   "source": [
    "print features_list"
   ]
  },
  {
   "cell_type": "markdown",
   "metadata": {
    "deletable": true,
    "editable": true
   },
   "source": [
    "Here we plot the salary and bonus by person of interest. We did not see any outlier points. "
   ]
  },
  {
   "cell_type": "code",
   "execution_count": 17,
   "metadata": {
    "collapsed": false,
    "deletable": true,
    "editable": true,
    "scrolled": true
   },
   "outputs": [
    {
     "data": {
      "image/png": "[encoded data removed]",
      "text/plain": [
       "<matplotlib.figure.Figure at 0x45f0fd0>"
      ]
     },
     "metadata": {},
     "output_type": "display_data"
    },
    {
     "data": {
      "text/plain": [
       "<ggplot: (16402885)>"
      ]
     },
     "execution_count": 17,
     "metadata": {},
     "output_type": "execute_result"
    }
   ],
   "source": [
    "ggplot(aes(x='salary',y='bonus',color='poi'),data=df_imputed)+geom_point()"
   ]
  },
  {
   "cell_type": "markdown",
   "metadata": {
    "deletable": true,
    "editable": true
   },
   "source": [
    "### 2.2. Feature Selection"
   ]
  },
  {
   "cell_type": "markdown",
   "metadata": {
    "deletable": true,
    "editable": true
   },
   "source": [
    "There are several email features:to messages, from messages,from poi to this person and from this person to poi. There variables only provide the number of emails of each category. However, I believe percentage of poi associated email will provide us with more information to identify other person of interest for further investigation.\n",
    "\n",
    "Below, we calculate two fractions:\n",
    "\n",
    "Fraction_from_poi: the percentage of email received from poi out of total messages received by this person\n",
    "\n",
    "Fraction_to_poi: the precentage of email sent to poi out of total messages sent out by this person"
   ]
  },
  {
   "cell_type": "code",
   "execution_count": 7,
   "metadata": {
    "collapsed": false,
    "deletable": true,
    "editable": true
   },
   "outputs": [],
   "source": [
    "df_imputed['fraction_from_poi']=df_imputed['from_poi_to_this_person']/df_imputed['from_messages']\n",
    "df_imputed['fraction_to_poi']=df_imputed['from_this_person_to_poi']/df_imputed['to_messages']"
   ]
  },
  {
   "cell_type": "code",
   "execution_count": 8,
   "metadata": {
    "collapsed": false,
    "deletable": true,
    "editable": true
   },
   "outputs": [
    {
     "data": {
      "text/plain": [
       "(144, 19)"
      ]
     },
     "execution_count": 8,
     "metadata": {},
     "output_type": "execute_result"
    }
   ],
   "source": [
    "df_imputed.shape"
   ]
  },
  {
   "cell_type": "code",
   "execution_count": 9,
   "metadata": {
    "collapsed": true,
    "deletable": true,
    "editable": true
   },
   "outputs": [],
   "source": [
    "features_list.append('fraction_from_poi')\n",
    "features_list.append('fraction_to_poi')"
   ]
  },
  {
   "cell_type": "code",
   "execution_count": 16,
   "metadata": {
    "collapsed": false,
    "deletable": true,
    "editable": true
   },
   "outputs": [
    {
     "data": {
      "text/html": [
       "<div>\n",
       "<table border=\"1\" class=\"dataframe\">\n",
       "  <thead>\n",
       "    <tr style=\"text-align: right;\">\n",
       "      <th></th>\n",
       "      <th>bonus</th>\n",
       "      <th>deferral_payments</th>\n",
       "      <th>deferred_income</th>\n",
       "      <th>exercised_stock_options</th>\n",
       "      <th>expenses</th>\n",
       "      <th>from_messages</th>\n",
       "      <th>from_poi_to_this_person</th>\n",
       "      <th>from_this_person_to_poi</th>\n",
       "      <th>long_term_incentive</th>\n",
       "      <th>other</th>\n",
       "      <th>poi</th>\n",
       "      <th>restricted_stock</th>\n",
       "      <th>salary</th>\n",
       "      <th>shared_receipt_with_poi</th>\n",
       "      <th>to_messages</th>\n",
       "      <th>total_payments</th>\n",
       "      <th>total_stock_value</th>\n",
       "      <th>fraction_from_poi</th>\n",
       "      <th>fraction_to_poi</th>\n",
       "    </tr>\n",
       "  </thead>\n",
       "  <tbody>\n",
       "    <tr>\n",
       "      <th>0</th>\n",
       "      <td>600000.0</td>\n",
       "      <td>221063.5</td>\n",
       "      <td>-151927.0</td>\n",
       "      <td>1297049.0</td>\n",
       "      <td>94299.0</td>\n",
       "      <td>29.0</td>\n",
       "      <td>38.0</td>\n",
       "      <td>1.0</td>\n",
       "      <td>422158.0</td>\n",
       "      <td>1740.0</td>\n",
       "      <td>0.0</td>\n",
       "      <td>585062.0</td>\n",
       "      <td>365788.0</td>\n",
       "      <td>702.0</td>\n",
       "      <td>807.0</td>\n",
       "      <td>1061827.0</td>\n",
       "      <td>585062.0</td>\n",
       "      <td>1.310345</td>\n",
       "      <td>0.001239</td>\n",
       "    </tr>\n",
       "    <tr>\n",
       "      <th>1</th>\n",
       "      <td>1200000.0</td>\n",
       "      <td>1295738.0</td>\n",
       "      <td>-1386055.0</td>\n",
       "      <td>6680544.0</td>\n",
       "      <td>11200.0</td>\n",
       "      <td>41.0</td>\n",
       "      <td>35.0</td>\n",
       "      <td>8.0</td>\n",
       "      <td>1586055.0</td>\n",
       "      <td>2660303.0</td>\n",
       "      <td>0.0</td>\n",
       "      <td>3942714.0</td>\n",
       "      <td>267102.0</td>\n",
       "      <td>740.5</td>\n",
       "      <td>1211.0</td>\n",
       "      <td>5634343.0</td>\n",
       "      <td>10623258.0</td>\n",
       "      <td>0.853659</td>\n",
       "      <td>0.006606</td>\n",
       "    </tr>\n",
       "    <tr>\n",
       "      <th>2</th>\n",
       "      <td>350000.0</td>\n",
       "      <td>221063.5</td>\n",
       "      <td>-400729.0</td>\n",
       "      <td>4890344.0</td>\n",
       "      <td>78552.0</td>\n",
       "      <td>41.0</td>\n",
       "      <td>35.0</td>\n",
       "      <td>8.0</td>\n",
       "      <td>422158.0</td>\n",
       "      <td>12961.0</td>\n",
       "      <td>0.0</td>\n",
       "      <td>1788391.0</td>\n",
       "      <td>170941.0</td>\n",
       "      <td>740.5</td>\n",
       "      <td>1211.0</td>\n",
       "      <td>211725.0</td>\n",
       "      <td>6678735.0</td>\n",
       "      <td>0.853659</td>\n",
       "      <td>0.006606</td>\n",
       "    </tr>\n",
       "    <tr>\n",
       "      <th>3</th>\n",
       "      <td>750000.0</td>\n",
       "      <td>221063.5</td>\n",
       "      <td>-151927.0</td>\n",
       "      <td>651850.0</td>\n",
       "      <td>46547.5</td>\n",
       "      <td>12.0</td>\n",
       "      <td>10.0</td>\n",
       "      <td>0.0</td>\n",
       "      <td>422158.0</td>\n",
       "      <td>51984.5</td>\n",
       "      <td>0.0</td>\n",
       "      <td>386335.0</td>\n",
       "      <td>258741.0</td>\n",
       "      <td>58.0</td>\n",
       "      <td>764.0</td>\n",
       "      <td>1100246.5</td>\n",
       "      <td>1038185.0</td>\n",
       "      <td>0.833333</td>\n",
       "      <td>0.000000</td>\n",
       "    </tr>\n",
       "    <tr>\n",
       "      <th>4</th>\n",
       "      <td>1500000.0</td>\n",
       "      <td>221063.5</td>\n",
       "      <td>-3117011.0</td>\n",
       "      <td>5538001.0</td>\n",
       "      <td>34039.0</td>\n",
       "      <td>32.0</td>\n",
       "      <td>32.0</td>\n",
       "      <td>21.0</td>\n",
       "      <td>1617011.0</td>\n",
       "      <td>11350.0</td>\n",
       "      <td>1.0</td>\n",
       "      <td>853064.0</td>\n",
       "      <td>243293.0</td>\n",
       "      <td>1035.0</td>\n",
       "      <td>1045.0</td>\n",
       "      <td>288682.0</td>\n",
       "      <td>6391065.0</td>\n",
       "      <td>1.000000</td>\n",
       "      <td>0.020096</td>\n",
       "    </tr>\n",
       "  </tbody>\n",
       "</table>\n",
       "</div>"
      ],
      "text/plain": [
       "       bonus  deferral_payments  deferred_income  exercised_stock_options  \\\n",
       "0   600000.0           221063.5        -151927.0                1297049.0   \n",
       "1  1200000.0          1295738.0       -1386055.0                6680544.0   \n",
       "2   350000.0           221063.5        -400729.0                4890344.0   \n",
       "3   750000.0           221063.5        -151927.0                 651850.0   \n",
       "4  1500000.0           221063.5       -3117011.0                5538001.0   \n",
       "\n",
       "   expenses  from_messages  from_poi_to_this_person  from_this_person_to_poi  \\\n",
       "0   94299.0           29.0                     38.0                      1.0   \n",
       "1   11200.0           41.0                     35.0                      8.0   \n",
       "2   78552.0           41.0                     35.0                      8.0   \n",
       "3   46547.5           12.0                     10.0                      0.0   \n",
       "4   34039.0           32.0                     32.0                     21.0   \n",
       "\n",
       "   long_term_incentive      other  poi  restricted_stock    salary  \\\n",
       "0             422158.0     1740.0  0.0          585062.0  365788.0   \n",
       "1            1586055.0  2660303.0  0.0         3942714.0  267102.0   \n",
       "2             422158.0    12961.0  0.0         1788391.0  170941.0   \n",
       "3             422158.0    51984.5  0.0          386335.0  258741.0   \n",
       "4            1617011.0    11350.0  1.0          853064.0  243293.0   \n",
       "\n",
       "   shared_receipt_with_poi  to_messages  total_payments  total_stock_value  \\\n",
       "0                    702.0        807.0       1061827.0           585062.0   \n",
       "1                    740.5       1211.0       5634343.0         10623258.0   \n",
       "2                    740.5       1211.0        211725.0          6678735.0   \n",
       "3                     58.0        764.0       1100246.5          1038185.0   \n",
       "4                   1035.0       1045.0        288682.0          6391065.0   \n",
       "\n",
       "   fraction_from_poi  fraction_to_poi  \n",
       "0           1.310345         0.001239  \n",
       "1           0.853659         0.006606  \n",
       "2           0.853659         0.006606  \n",
       "3           0.833333         0.000000  \n",
       "4           1.000000         0.020096  "
      ]
     },
     "execution_count": 16,
     "metadata": {},
     "output_type": "execute_result"
    }
   ],
   "source": [
    "df_imputed.head()"
   ]
  },
  {
   "cell_type": "markdown",
   "metadata": {
    "deletable": true,
    "editable": true
   },
   "source": [
    "Now the data are cleaned, we will use pipeline and GridSearchCV to find the best features for building classifiers."
   ]
  },
  {
   "cell_type": "code",
   "execution_count": 10,
   "metadata": {
    "collapsed": true,
    "deletable": true,
    "editable": true
   },
   "outputs": [],
   "source": [
    "labels = df_imputed['poi'].astype(int).as_matrix()\n",
    "features = df_imputed.drop('poi',1).as_matrix()"
   ]
  },
  {
   "cell_type": "code",
   "execution_count": 20,
   "metadata": {
    "collapsed": false,
    "deletable": true,
    "editable": true,
    "scrolled": true
   },
   "outputs": [
    {
     "data": {
      "text/plain": [
       "GridSearchCV(cv=StratifiedShuffleSplit(n_splits=10, random_state=0, test_size=0.1,\n",
       "            train_size=None),\n",
       "       error_score='raise',\n",
       "       estimator=Pipeline(steps=[('scaler', MinMaxScaler(copy=True, feature_range=(0, 1))), ('skb', SelectKBest(k=10, score_func=<function f_classif at 0x000000000CCD4C18>)), ('clf', RandomForestClassifier(bootstrap=True, class_weight=None, criterion='gini',\n",
       "            max_depth=None, max_features='auto', max_leaf_nodes=Non...stimators=10, n_jobs=1, oob_score=False, random_state=42,\n",
       "            verbose=0, warm_start=False))]),\n",
       "       fit_params={}, iid=True, n_jobs=1,\n",
       "       param_grid={'clf__min_samples_leaf': [2, 3, 5], 'clf__min_samples_split': [2, 3, 5], 'clf__n_estimators': [5, 10, 15, 20, 50, 100], 'skb__k': [1, 2, 3, 4, 5, 6, 7, 8, 9, 10, 11, 12, 13, 14, 15, 16, 17, 18]},\n",
       "       pre_dispatch='2*n_jobs', refit=True, return_train_score=True,\n",
       "       scoring='f1', verbose=0)"
      ]
     },
     "execution_count": 20,
     "metadata": {},
     "output_type": "execute_result"
    }
   ],
   "source": [
    "from sklearn.pipeline import Pipeline\n",
    "from sklearn.feature_selection import SelectKBest\n",
    "from sklearn.ensemble import RandomForestClassifier\n",
    "from sklearn.model_selection import StratifiedShuffleSplit\n",
    "from sklearn.model_selection import GridSearchCV\n",
    "from sklearn.preprocessing import MinMaxScaler\n",
    "from sklearn.decomposition import PCA\n",
    "\n",
    "pipe=Pipeline([(\"scaler\",MinMaxScaler()),\n",
    "               (\"skb\",SelectKBest()),\n",
    "               (\"clf\",RandomForestClassifier(random_state=42))])\n",
    "\n",
    "sss = StratifiedShuffleSplit(random_state = 0)\n",
    "parameters={'skb__k':range(1,len(features_list)),\n",
    "            \"clf__n_estimators\":[5,10,15,20,50,100],\n",
    "            \"clf__min_samples_split\":[2,3,5],\n",
    "            \"clf__min_samples_leaf\":[2,3,5]}\n",
    "gs=GridSearchCV(pipe,parameters,cv=sss,scoring=\"f1\")\n",
    "gs.fit(features,labels)"
   ]
  },
  {
   "cell_type": "code",
   "execution_count": 21,
   "metadata": {
    "collapsed": false,
    "deletable": true,
    "editable": true
   },
   "outputs": [
    {
     "name": "stdout",
     "output_type": "stream",
     "text": [
      "[('exercised_stock_options', '27.42', '0.000'), ('to_messages', '23.68', '0.000'), ('bonus', '15.98', '0.000'), ('from_messages', '10.97', '0.001'), ('deferred_income', '10.37', '0.002')]\n"
     ]
    }
   ],
   "source": [
    "K_best = gs.best_estimator_.named_steps['skb']\n",
    "\n",
    "# Get SelectKBest scores, rounded to 2 decimal places, name them \"feature_scores\"\n",
    "feature_scores = ['%.2f' % elem for elem in K_best.scores_ ]\n",
    "# Get SelectKBest pvalues, rounded to 3 decimal places, name them \"feature_scores_pvalues\"\n",
    "feature_scores_pvalues = ['%.3f' % elem for elem in  K_best.pvalues_ ]\n",
    "# Get SelectKBest feature names, whose indices are stored in 'K_best.get_support',\n",
    "# create a tuple of feature names, scores and pvalues, name it \"features_selected_tuple\"\n",
    "features_selected_tuple=[(features_list[i+1], feature_scores[i], feature_scores_pvalues[i]) for i in K_best.get_support(indices=True)]\n",
    "\n",
    "# Sort the tuple by score, in reverse order\n",
    "features_selected_tuple = sorted(features_selected_tuple, key=lambda feature: float(feature[1]) , reverse=True)\n",
    "\n",
    "print features_selected_tuple"
   ]
  },
  {
   "cell_type": "markdown",
   "metadata": {
    "deletable": true,
    "editable": true
   },
   "source": [
    "The above code prints out the features selected using GridSearchCV method. We can see that bonus, exercised stock options, to messages, from messages, deffered income are the best features to identify a person of interest."
   ]
  },
  {
   "cell_type": "code",
   "execution_count": 13,
   "metadata": {
    "collapsed": false,
    "deletable": true,
    "editable": true
   },
   "outputs": [],
   "source": [
    "features_kbest=K_best.fit_transform(features,labels)\n"
   ]
  },
  {
   "cell_type": "markdown",
   "metadata": {
    "deletable": true,
    "editable": true
   },
   "source": [
    "### 2.3 Cross Validation"
   ]
  },
  {
   "cell_type": "markdown",
   "metadata": {
    "deletable": true,
    "editable": true
   },
   "source": [
    "Next, we split the data into training and testing datasets and use the features we selected to train classifiers. Using training and testing datasets, or cross validation, is a method that is used to assess the performance of a classifier. We will use training set to fit the classifier and test the performance on testing dataset.\n",
    "\n",
    "Since we only have 18 person of interest (POIs) out of 144 people in this dataset, the class is imbalanced. When one class is far less than the other, classifiers will tend to classify these cases POI=1 as POI=0. So a stratified shuffle split will work better in this case."
   ]
  },
  {
   "cell_type": "code",
   "execution_count": 14,
   "metadata": {
    "collapsed": false,
    "deletable": true,
    "editable": true
   },
   "outputs": [],
   "source": [
    "sss = StratifiedShuffleSplit(n_splits=3,test_size=0.3,random_state=42)\n",
    "for train_index,test_index in sss.split(features_kbest,labels):\n",
    "    features_train = []\n",
    "    features_test  = []\n",
    "    labels_train   = []\n",
    "    labels_test    = []\n",
    "    for ii in train_index:\n",
    "        features_train.append( features_kbest[ii] )\n",
    "        labels_train.append( labels[ii] )\n",
    "    for jj in test_index:\n",
    "        features_test.append( features_kbest[jj] )\n",
    "        labels_test.append( labels[jj] )"
   ]
  },
  {
   "cell_type": "markdown",
   "metadata": {
    "deletable": true,
    "editable": true
   },
   "source": [
    "## 3. Build Classifier"
   ]
  },
  {
   "cell_type": "markdown",
   "metadata": {
    "deletable": true,
    "editable": true
   },
   "source": [
    "To evaluate the effectiveness of a classifier, accuracy score, precision rate and recall rate will be used. \n",
    "- Accuracy score: the proportion of the labels predicted correctly.\n",
    "- Recall rate: True Positives/(True Positives+False Negatives)\n",
    "- Precision rate: True Positives/(True Positives+ False Positives)\n",
    "\n",
    "\n",
    "\n"
   ]
  },
  {
   "cell_type": "markdown",
   "metadata": {
    "collapsed": true,
    "deletable": true,
    "editable": true
   },
   "source": [
    "### 3.1 Gaussian Naive Bayes"
   ]
  },
  {
   "cell_type": "code",
   "execution_count": 15,
   "metadata": {
    "collapsed": false,
    "deletable": true,
    "editable": true
   },
   "outputs": [
    {
     "name": "stdout",
     "output_type": "stream",
     "text": [
      "The accuracy score of this classifier is: 0.840909090909\n",
      "The recall score of this classifier is: 0.6\n",
      "The precision score of this classifier is: 0.375\n"
     ]
    }
   ],
   "source": [
    "from sklearn.naive_bayes import GaussianNB\n",
    "g_clf = GaussianNB()\n",
    "g_clf.fit(features_train,labels_train)\n",
    "pred=g_clf.predict(features_test)\n",
    "\n",
    "accuracy = accuracy_score(pred,labels_test)\n",
    "recall=recall_score(labels_test,pred)\n",
    "precision=precision_score(labels_test,pred)\n",
    "print \"The accuracy score of this classifier is: %s\" % accuracy\n",
    "print \"The recall score of this classifier is: %s\" % recall\n",
    "print \"The precision score of this classifier is: %s\" % precision"
   ]
  },
  {
   "cell_type": "markdown",
   "metadata": {
    "deletable": true,
    "editable": true
   },
   "source": [
    "### 3.2 Random Forest"
   ]
  },
  {
   "cell_type": "code",
   "execution_count": 16,
   "metadata": {
    "collapsed": false,
    "deletable": true,
    "editable": true,
    "scrolled": true
   },
   "outputs": [
    {
     "name": "stdout",
     "output_type": "stream",
     "text": [
      "The accuracy score of this classifier is: 0.840909090909\n",
      "The recall score of this classifier is: 0.2\n",
      "The precision score of this classifier is: 0.25\n"
     ]
    }
   ],
   "source": [
    "from sklearn.ensemble import RandomForestClassifier\n",
    "r_clf=RandomForestClassifier()\n",
    "r_clf.fit(features_train,labels_train)\n",
    "pred=r_clf.predict(features_test)\n",
    "\n",
    "\n",
    "accuracy = accuracy_score(pred,labels_test)\n",
    "recall=recall_score(labels_test,pred)\n",
    "precision=precision_score(labels_test,pred)\n",
    "print \"The accuracy score of this classifier is: %s\" % accuracy\n",
    "print \"The recall score of this classifier is: %s\" % recall\n",
    "print \"The precision score of this classifier is: %s\" % precision"
   ]
  },
  {
   "cell_type": "markdown",
   "metadata": {
    "deletable": true,
    "editable": true
   },
   "source": [
    "### 3.3 Adaboost Classifier"
   ]
  },
  {
   "cell_type": "code",
   "execution_count": 17,
   "metadata": {
    "collapsed": false,
    "deletable": true,
    "editable": true
   },
   "outputs": [
    {
     "name": "stdout",
     "output_type": "stream",
     "text": [
      "The accuracy score of this classifier is: 0.772727272727\n",
      "The recall score of this classifier is: 0.4\n",
      "The precision score of this classifier is: 0.222222222222\n"
     ]
    }
   ],
   "source": [
    "from sklearn.ensemble import AdaBoostClassifier\n",
    "a_clf=AdaBoostClassifier()\n",
    "a_clf.fit(features_train,labels_train)\n",
    "pred=a_clf.predict(features_test)\n",
    "\n",
    "accuracy = accuracy_score(pred,labels_test)\n",
    "recall=recall_score(labels_test,pred)\n",
    "precision=precision_score(labels_test,pred)\n",
    "print \"The accuracy score of this classifier is: %s\" % accuracy\n",
    "print \"The recall score of this classifier is: %s\" % recall\n",
    "print \"The precision score of this classifier is: %s\" % precision"
   ]
  },
  {
   "cell_type": "markdown",
   "metadata": {
    "deletable": true,
    "editable": true
   },
   "source": [
    "\n",
    "### 3.4 Logistic Regression"
   ]
  },
  {
   "cell_type": "code",
   "execution_count": 18,
   "metadata": {
    "collapsed": false,
    "deletable": true,
    "editable": true
   },
   "outputs": [
    {
     "name": "stdout",
     "output_type": "stream",
     "text": [
      "The accuracy score of this classifier is: 0.886363636364\n",
      "The recall score of this classifier is: 0.4\n",
      "The precision score of this classifier is: 0.5\n"
     ]
    }
   ],
   "source": [
    "from sklearn.linear_model import LogisticRegression\n",
    "l_clf=LogisticRegression()\n",
    "l_clf.fit(features_train,labels_train)\n",
    "pred=l_clf.predict(features_test)\n",
    "\n",
    "accuracy = accuracy_score(pred,labels_test)\n",
    "recall=recall_score(labels_test,pred)\n",
    "precision=precision_score(labels_test,pred)\n",
    "print \"The accuracy score of this classifier is: %s\" % accuracy\n",
    "print \"The recall score of this classifier is: %s\" % recall\n",
    "print \"The precision score of this classifier is: %s\" % precision"
   ]
  },
  {
   "cell_type": "markdown",
   "metadata": {
    "deletable": true,
    "editable": true
   },
   "source": [
    "### 3.5 K Neighbors Classifier"
   ]
  },
  {
   "cell_type": "code",
   "execution_count": 19,
   "metadata": {
    "collapsed": false,
    "deletable": true,
    "editable": true
   },
   "outputs": [
    {
     "name": "stdout",
     "output_type": "stream",
     "text": [
      "The accuracy score of this classifier is: 0.863636363636\n",
      "The recall score of this classifier is: 0.0\n",
      "The precision score of this classifier is: 0.0\n"
     ]
    }
   ],
   "source": [
    "from sklearn.neighbors import KNeighborsClassifier\n",
    "k_clf=KNeighborsClassifier()\n",
    "k_clf.fit(features_train,labels_train)\n",
    "pred=k_clf.predict(features_test)\n",
    "\n",
    "accuracy = accuracy_score(pred,labels_test)\n",
    "recall=recall_score(labels_test,pred)\n",
    "precision=precision_score(labels_test,pred)\n",
    "print \"The accuracy score of this classifier is: %s\" % accuracy\n",
    "print \"The recall score of this classifier is: %s\" % recall\n",
    "print \"The precision score of this classifier is: %s\" % precision"
   ]
  },
  {
   "cell_type": "markdown",
   "metadata": {
    "deletable": true,
    "editable": true
   },
   "source": [
    "We tried 5 algorithms to classifier/predict person of interest. Amoung these, gaussian naive bayes classifier has the best performance in terms of precision and recall score. K neighbors classifier has the best performance in terms of accuracy score. Next we will tune algorithms and find the best parameter for prediction. Since Gaussian Naive Bayes do not have any parameters for tuning, we will work on K Neighbors Classifier, Random Forest Classifier and Logistic Regression."
   ]
  },
  {
   "cell_type": "markdown",
   "metadata": {
    "deletable": true,
    "editable": true
   },
   "source": [
    "## 4. Tuning Classifier"
   ]
  },
  {
   "cell_type": "markdown",
   "metadata": {
    "collapsed": true,
    "deletable": true,
    "editable": true
   },
   "source": [
    "From previous section, we can see that random forest and adaboost have the best prediction accuracy. In this section, we will use GridSearchCV to tune the parameters for Adaboost classifier to maximize the accuracy of prediction.\n",
    "\n",
    "Parameter tuning is essential in building machine learning algorithms. This means to adjust the input parameters of the algorithm to ensure the best performance of the algorithm on the dataset with selected features. If tuning is not done correctly, the algorithm may not be performing with its full potential. As a result, this could create more wrong predictions and lowered precision and recall rates. \n"
   ]
  },
  {
   "cell_type": "markdown",
   "metadata": {
    "deletable": true,
    "editable": true
   },
   "source": [
    "Using the tester.py code to check the performance of Gaussian Naive Bayes classifier:"
   ]
  },
  {
   "cell_type": "raw",
   "metadata": {
    "deletable": true,
    "editable": true
   },
   "source": [
    "GaussianNB(priors=None)\n",
    "        Accuracy: 0.86227       Precision: 0.47730      Recall: 0.34700 F1: 0.40185     F2: 0.36704\n",
    "        Total predictions: 15000        True positives:  694    False positives:  760   False negatives: 1306   True negatives: 12240\n"
   ]
  },
  {
   "cell_type": "markdown",
   "metadata": {
    "deletable": true,
    "editable": true
   },
   "source": [
    "### 4.1 Random Forest"
   ]
  },
  {
   "cell_type": "code",
   "execution_count": 77,
   "metadata": {
    "collapsed": false,
    "deletable": true,
    "editable": true
   },
   "outputs": [],
   "source": [
    "\n",
    "parameters={\n",
    "            \"n_estimators\":[5,10,15,20,50,100],\n",
    "            \"criterion\":(\"gini\",\"entropy\"),\n",
    "            \"min_samples_split\":[2,3,5],\n",
    "            \"min_samples_leaf\":[2,3,5]}\n",
    "\n",
    "r_clf=RandomForestClassifier()\n",
    "gs=GridSearchCV(r_clf,parameters)\n",
    "gs.fit(features_train,labels_train)\n",
    "r_y_pred=gs.predict(features_test)\n"
   ]
  },
  {
   "cell_type": "code",
   "execution_count": 78,
   "metadata": {
    "collapsed": false,
    "deletable": true,
    "editable": true
   },
   "outputs": [
    {
     "name": "stdout",
     "output_type": "stream",
     "text": [
      "The accuracy score of this classifier is: 0.840909090909\n",
      "The recall score of this classifier is: 0.2\n",
      "The precision score of this classifier is: 0.25\n"
     ]
    }
   ],
   "source": [
    "accuracy = accuracy_score(r_y_pred,labels_test)\n",
    "recall=recall_score(labels_test,r_y_pred)\n",
    "precision=precision_score(labels_test,r_y_pred)\n",
    "print \"The accuracy score of this classifier is: %s\" % accuracy\n",
    "print \"The recall score of this classifier is: %s\" % recall\n",
    "print \"The precision score of this classifier is: %s\" % precision"
   ]
  },
  {
   "cell_type": "code",
   "execution_count": 80,
   "metadata": {
    "collapsed": false,
    "deletable": true,
    "editable": true
   },
   "outputs": [
    {
     "name": "stdout",
     "output_type": "stream",
     "text": [
      "RandomForestClassifier(bootstrap=True, class_weight=None, criterion='gini',\n",
      "            max_depth=None, max_features='auto', max_leaf_nodes=None,\n",
      "            min_impurity_split=1e-07, min_samples_leaf=2,\n",
      "            min_samples_split=3, min_weight_fraction_leaf=0.0,\n",
      "            n_estimators=50, n_jobs=1, oob_score=False, random_state=None,\n",
      "            verbose=0, warm_start=False)\n"
     ]
    }
   ],
   "source": [
    "print gs.best_estimator_"
   ]
  },
  {
   "cell_type": "raw",
   "metadata": {
    "collapsed": false,
    "deletable": true,
    "editable": true
   },
   "source": [
    "Accuracy: 0.85087       Precision: 0.37970      Recall: 0.18700 F1: 0.25059     F2: 0.20812\n",
    "        Total predictions: 15000        True positives:  374    False positives:  611   False negatives: 1626   True negatives: 12389"
   ]
  },
  {
   "cell_type": "markdown",
   "metadata": {
    "deletable": true,
    "editable": true
   },
   "source": [
    "### 4.2 K Neighbors Classifier"
   ]
  },
  {
   "cell_type": "code",
   "execution_count": 81,
   "metadata": {
    "collapsed": true,
    "deletable": true,
    "editable": true
   },
   "outputs": [],
   "source": [
    "parameters={\n",
    "            \"n_neighbors\":range(1,10),\n",
    "            \"algorithm\":(\"ball_tree\",\"kd_tree\",\"brute\"),\n",
    "            'weights': ['uniform', 'distance'],\n",
    "            'p': [1, 2], 'leaf_size': [1, 5, 9, 10, 20, 30, 40, 50, 60]}\n",
    "\n",
    "k_clf=KNeighborsClassifier()\n",
    "gs=GridSearchCV(k_clf,parameters)\n",
    "gs.fit(features_train,labels_train)\n",
    "k_y_pred=gs.predict(features_test)"
   ]
  },
  {
   "cell_type": "code",
   "execution_count": 82,
   "metadata": {
    "collapsed": false,
    "deletable": true,
    "editable": true
   },
   "outputs": [
    {
     "name": "stdout",
     "output_type": "stream",
     "text": [
      "The accuracy score of this classifier is: 0.909090909091\n",
      "The recall score of this classifier is: 0.2\n",
      "The precision score of this classifier is: 1.0\n"
     ]
    }
   ],
   "source": [
    "accuracy = accuracy_score(k_y_pred,labels_test)\n",
    "recall=recall_score(labels_test,k_y_pred)\n",
    "precision=precision_score(labels_test,k_y_pred)\n",
    "print \"The accuracy score of this classifier is: %s\" % accuracy\n",
    "print \"The recall score of this classifier is: %s\" % recall\n",
    "print \"The precision score of this classifier is: %s\" % precision"
   ]
  },
  {
   "cell_type": "raw",
   "metadata": {
    "deletable": true,
    "editable": true
   },
   "source": [
    "Accuracy: 0.88593       Precision: 0.74204      Recall: 0.22150 F1: 0.34116     F2: 0.25765\n",
    "        Total predictions: 15000        True positives:  443    False positives:  154   False negatives: 1557   True negatives: 12846"
   ]
  },
  {
   "cell_type": "markdown",
   "metadata": {
    "deletable": true,
    "editable": true
   },
   "source": [
    "### 4.3 Logistic Regression"
   ]
  },
  {
   "cell_type": "code",
   "execution_count": 75,
   "metadata": {
    "collapsed": false,
    "deletable": true,
    "editable": true
   },
   "outputs": [],
   "source": [
    "parameters={\"penalty\":('l1','l2'),\n",
    "            \"C\":(0.2,0.5,0.8,1,1.2,1.5,1.7,1.9,2),\n",
    "            'max_iter':[100,200,500,1000]}\n",
    "\n",
    "l_clf=LogisticRegression()\n",
    "gs=GridSearchCV(l_clf,parameters)\n",
    "gs.fit(features_train,labels_train)\n",
    "l_y_pred=gs.predict(features_test)"
   ]
  },
  {
   "cell_type": "code",
   "execution_count": 76,
   "metadata": {
    "collapsed": false,
    "deletable": true,
    "editable": true
   },
   "outputs": [
    {
     "name": "stdout",
     "output_type": "stream",
     "text": [
      "The accuracy score of this classifier is: 0.886363636364\n",
      "The recall score of this classifier is: 0.6\n",
      "The precision score of this classifier is: 0.5\n"
     ]
    }
   ],
   "source": [
    "accuracy = accuracy_score(l_y_pred,labels_test)\n",
    "recall=recall_score(labels_test,l_y_pred)\n",
    "precision=precision_score(labels_test,l_y_pred)\n",
    "print \"The accuracy score of this classifier is: %s\" % accuracy\n",
    "print \"The recall score of this classifier is: %s\" % recall\n",
    "print \"The precision score of this classifier is: %s\" % precision"
   ]
  },
  {
   "cell_type": "raw",
   "metadata": {
    "collapsed": true,
    "deletable": true,
    "editable": true
   },
   "source": [
    "Accuracy: 0.87067       Precision: 0.53906      Recall: 0.20700 F1: 0.29913     F2: 0.23609\n",
    "        Total predictions: 15000        True positives:  414    False positives:  354   False negatives: 1586   True negatives: 12646"
   ]
  },
  {
   "cell_type": "markdown",
   "metadata": {},
   "source": [
    "Comparing the precision and recall rate of the models we tryied to tune, Naive Bayes is the only one with both metrics greater than 0.3. So I decided to use it as our final chosen algorithm."
   ]
  },
  {
   "cell_type": "markdown",
   "metadata": {
    "deletable": true,
    "editable": true
   },
   "source": [
    "## 5. Summary and Conclusion"
   ]
  },
  {
   "cell_type": "markdown",
   "metadata": {
    "collapsed": true,
    "deletable": true,
    "editable": true
   },
   "source": [
    "In this project, we cleaned and studied the Enron dataset to build classifiers to identify if a person would be person of interest (POI) using financial features and email interactions between people. We first cleaned and impute the missing values and then calculated some ratios that would be useful in building classifiers. And next we built several classifiers using the training data and test the prediction power using test data. "
   ]
  },
  {
   "cell_type": "markdown",
   "metadata": {
    "collapsed": true,
    "deletable": true,
    "editable": true
   },
   "source": [
    "In the last section, we tuned the classifiers and tried to improve their predicting accuracy. I chose the Gaussian Naive Bayes classifier as the best method, based on precision and recall rates, for identifying POI employee in this study. The small sample size for model building is one of the factor that contribute to the low precision and recall rate. Since small sample size provides limited information when doing feature selection and modeling, the error rate in validation tend to be high."
   ]
  },
  {
   "cell_type": "markdown",
   "metadata": {
    "collapsed": true,
    "deletable": true,
    "editable": true
   },
   "source": [
    "## 6. Reference"
   ]
  },
  {
   "cell_type": "markdown",
   "metadata": {
    "deletable": true,
    "editable": true
   },
   "source": [
    "sklearn help pages\n",
    "\n",
    "\n",
    "\n",
    "http://stackoverflow.com/questions/22361781/how-does-sklearn-random-forest-index-feature-importances\n",
    "\n",
    "https://stats.stackexchange.com/questions/58214/when-does-naive-bayes-perform-better-than-svm\n",
    "\n",
    "http://scikit-learn.org/stable/auto_examples/model_selection/plot_precision_recall.html\n",
    "\n",
    "http://optunity.readthedocs.io/en/latest/notebooks/notebooks/sklearn-automated-classification.html\n"
   ]
  },
  {
   "cell_type": "code",
   "execution_count": null,
   "metadata": {
    "collapsed": true,
    "deletable": true,
    "editable": true
   },
   "outputs": [],
   "source": []
  }
 ],
 "metadata": {
  "kernelspec": {
   "display_name": "Python 2",
   "language": "python",
   "name": "python2"
  },
  "language_info": {
   "codemirror_mode": {
    "name": "ipython",
    "version": 2
   },
   "file_extension": ".py",
   "mimetype": "text/x-python",
   "name": "python",
   "nbconvert_exporter": "python",
   "pygments_lexer": "ipython2",
   "version": "2.7.8"
  }
 },
 "nbformat": 4,
 "nbformat_minor": 2
}
