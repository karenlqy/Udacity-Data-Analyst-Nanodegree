{
 "cells": [
  {
   "cell_type": "markdown",
   "metadata": {
    "deletable": true,
    "editable": true
   },
   "source": [
    "# Person of Interest (POI) Classifier for Enron Data"
   ]
  },
  {
   "cell_type": "markdown",
   "metadata": {
    "deletable": true,
    "editable": true
   },
   "source": [
    "Qingyu Li"
   ]
  },
  {
   "cell_type": "markdown",
   "metadata": {
    "deletable": true,
    "editable": true
   },
   "source": [
    "## 1. Project Overview"
   ]
  },
  {
   "cell_type": "markdown",
   "metadata": {
    "deletable": true,
    "editable": true
   },
   "source": [
    "In 2000, Enron was one of the largest companies in the United States. By 2002, it had collapsed into bankruptcy due to widespread corporate fraud. In the resulting Federal investigation, there was a significant amount of typically confidential information entered into public record, including tens of thousands of emails and detailed financial data for top executives. In this project, we will find features that provide useful information and build a person of interest identifier. We will test the accuracy of prediction of our classifier and find the best predicting model."
   ]
  },
  {
   "cell_type": "markdown",
   "metadata": {
    "deletable": true,
    "editable": true
   },
   "source": [
    "## 2. Data Preparation"
   ]
  },
  {
   "cell_type": "code",
   "execution_count": 31,
   "metadata": {
    "collapsed": false,
    "deletable": true,
    "editable": true
   },
   "outputs": [],
   "source": [
    "import sys\n",
    "import pickle\n",
    "import numpy\n",
    "import pandas\n",
    "import matplotlib\n",
    "\n",
    "from ggplot import *\n",
    "\n",
    "sys.path.append(\"../tools/\")\n",
    "\n",
    "from sklearn.tree import DecisionTreeClassifier\n",
    "from sklearn.metrics import accuracy_score\n",
    "from sklearn.metrics import recall_score\n",
    "from sklearn.metrics import precision_score\n",
    "from feature_format import featureFormat, targetFeatureSplit\n",
    "\n",
    "target_label = 'poi'\n",
    "email_features_list = [\n",
    "    # 'email_address', # remit email address; informational label\n",
    "    'from_messages',\n",
    "    'from_poi_to_this_person',\n",
    "    'from_this_person_to_poi',\n",
    "    'shared_receipt_with_poi',\n",
    "    'to_messages',\n",
    "    ]\n",
    "financial_features_list = [\n",
    "    'bonus',\n",
    "    'deferral_payments',\n",
    "    'deferred_income',\n",
    "    'director_fees',\n",
    "    'exercised_stock_options',\n",
    "    'expenses',\n",
    "    'loan_advances',\n",
    "    'long_term_incentive',\n",
    "    'other',\n",
    "    'restricted_stock',\n",
    "    'restricted_stock_deferred',\n",
    "    'salary',\n",
    "    'total_payments',\n",
    "    'total_stock_value',\n",
    "]\n",
    "features_list = [target_label] + financial_features_list + email_features_list"
   ]
  },
  {
   "cell_type": "code",
   "execution_count": 32,
   "metadata": {
    "collapsed": true,
    "deletable": true,
    "editable": true
   },
   "outputs": [],
   "source": [
    "### Load the dictionary containing the dataset\n",
    "enron_data = pickle.load(open(\"final_project_dataset.pkl\", \"r\") )\n",
    "## Load POI names file\n",
    "poi = open(\"poi_names.txt\", \"r\")"
   ]
  },
  {
   "cell_type": "markdown",
   "metadata": {
    "deletable": true,
    "editable": true
   },
   "source": [
    "How many people are in the dataset?"
   ]
  },
  {
   "cell_type": "code",
   "execution_count": 3,
   "metadata": {
    "collapsed": false,
    "deletable": true,
    "editable": true
   },
   "outputs": [
    {
     "data": {
      "text/plain": [
       "146"
      ]
     },
     "execution_count": 3,
     "metadata": {},
     "output_type": "execute_result"
    }
   ],
   "source": [
    "len(enron_data.keys())"
   ]
  },
  {
   "cell_type": "markdown",
   "metadata": {
    "deletable": true,
    "editable": true
   },
   "source": [
    "How many features are in the dataset?"
   ]
  },
  {
   "cell_type": "code",
   "execution_count": 4,
   "metadata": {
    "collapsed": false,
    "deletable": true,
    "editable": true
   },
   "outputs": [
    {
     "data": {
      "text/plain": [
       "21"
      ]
     },
     "execution_count": 4,
     "metadata": {},
     "output_type": "execute_result"
    }
   ],
   "source": [
    "len(enron_data.values()[0])"
   ]
  },
  {
   "cell_type": "markdown",
   "metadata": {
    "deletable": true,
    "editable": true
   },
   "source": [
    "From the above, we can see that there are 146 people in this dataset and 21 features in total. Next we print out an example of the data point for better understanding."
   ]
  },
  {
   "cell_type": "code",
   "execution_count": 5,
   "metadata": {
    "collapsed": false,
    "deletable": true,
    "editable": true
   },
   "outputs": [
    {
     "data": {
      "text/plain": [
       "{'bonus': 600000,\n",
       " 'deferral_payments': 'NaN',\n",
       " 'deferred_income': 'NaN',\n",
       " 'director_fees': 'NaN',\n",
       " 'email_address': 'mark.metts@enron.com',\n",
       " 'exercised_stock_options': 'NaN',\n",
       " 'expenses': 94299,\n",
       " 'from_messages': 29,\n",
       " 'from_poi_to_this_person': 38,\n",
       " 'from_this_person_to_poi': 1,\n",
       " 'loan_advances': 'NaN',\n",
       " 'long_term_incentive': 'NaN',\n",
       " 'other': 1740,\n",
       " 'poi': False,\n",
       " 'restricted_stock': 585062,\n",
       " 'restricted_stock_deferred': 'NaN',\n",
       " 'salary': 365788,\n",
       " 'shared_receipt_with_poi': 702,\n",
       " 'to_messages': 807,\n",
       " 'total_payments': 1061827,\n",
       " 'total_stock_value': 585062}"
      ]
     },
     "execution_count": 5,
     "metadata": {},
     "output_type": "execute_result"
    }
   ],
   "source": [
    "enron_data[enron_data.keys()[0]]"
   ]
  },
  {
   "cell_type": "markdown",
   "metadata": {
    "deletable": true,
    "editable": true
   },
   "source": [
    "- financial features: ['salary', 'deferral_payments', 'total_payments', 'loan_advances', 'bonus', 'restricted_stock_deferred', 'deferred_income', 'total_stock_value', 'expenses', 'exercised_stock_options', 'other', 'long_term_incentive', 'restricted_stock', 'director_fees'] (all units are in US dollars)\n",
    "\n",
    "- email features: ['to_messages', 'email_address', 'from_poi_to_this_person', 'from_messages', 'from_this_person_to_poi', 'shared_receipt_with_poi'] (units are generally number of emails messages; notable exception is ‘email_address’, which is a text string)\n",
    "\n",
    "- POI label: [‘poi’] (boolean, represented as integer)"
   ]
  },
  {
   "cell_type": "markdown",
   "metadata": {
    "deletable": true,
    "editable": true
   },
   "source": [
    "Convert data into data frame:"
   ]
  },
  {
   "cell_type": "code",
   "execution_count": 33,
   "metadata": {
    "collapsed": false,
    "deletable": true,
    "editable": true
   },
   "outputs": [
    {
     "name": "stdout",
     "output_type": "stream",
     "text": [
      "     bonus deferral_payments deferred_income director_fees  \\\n",
      "0   600000               NaN             NaN           NaN   \n",
      "1  1200000           1295738        -1386055           NaN   \n",
      "2   350000               NaN         -400729           NaN   \n",
      "3      NaN               NaN             NaN           NaN   \n",
      "4  1500000               NaN        -3117011           NaN   \n",
      "\n",
      "              email_address exercised_stock_options expenses from_messages  \\\n",
      "0      mark.metts@enron.com                     NaN    94299            29   \n",
      "1                       NaN                 6680544    11200           NaN   \n",
      "2  steven.elliott@enron.com                 4890344    78552           NaN   \n",
      "3     bill.cordes@enron.com                  651850      NaN            12   \n",
      "4    kevin.hannon@enron.com                 5538001    34039            32   \n",
      "\n",
      "  from_poi_to_this_person from_this_person_to_poi        ...         \\\n",
      "0                      38                       1        ...          \n",
      "1                     NaN                     NaN        ...          \n",
      "2                     NaN                     NaN        ...          \n",
      "3                      10                       0        ...          \n",
      "4                      32                      21        ...          \n",
      "\n",
      "  long_term_incentive    other    poi restricted_stock  \\\n",
      "0                 NaN     1740  False           585062   \n",
      "1             1586055  2660303  False          3942714   \n",
      "2                 NaN    12961  False          1788391   \n",
      "3                 NaN      NaN  False           386335   \n",
      "4             1617011    11350   True           853064   \n",
      "\n",
      "  restricted_stock_deferred  salary shared_receipt_with_poi to_messages  \\\n",
      "0                       NaN  365788                     702         807   \n",
      "1                       NaN  267102                     NaN         NaN   \n",
      "2                       NaN  170941                     NaN         NaN   \n",
      "3                       NaN     NaN                      58         764   \n",
      "4                       NaN  243293                    1035        1045   \n",
      "\n",
      "  total_payments total_stock_value  \n",
      "0        1061827            585062  \n",
      "1        5634343          10623258  \n",
      "2         211725           6678735  \n",
      "3            NaN           1038185  \n",
      "4         288682           6391065  \n",
      "\n",
      "[5 rows x 21 columns]\n"
     ]
    }
   ],
   "source": [
    "df=pandas.DataFrame.from_records(list(enron_data.values()))\n",
    "print df.head()\n"
   ]
  },
  {
   "cell_type": "markdown",
   "metadata": {
    "deletable": true,
    "editable": true
   },
   "source": [
    "We can see that the missing value are coded as 'NaN'. Next we will need to deal with the 'NaN' and outliers."
   ]
  },
  {
   "cell_type": "markdown",
   "metadata": {
    "deletable": true,
    "editable": true
   },
   "source": [
    "### 2.1 Missing Values"
   ]
  },
  {
   "cell_type": "code",
   "execution_count": 34,
   "metadata": {
    "collapsed": false,
    "deletable": true,
    "editable": true
   },
   "outputs": [
    {
     "data": {
      "text/plain": [
       "bonus                         64\n",
       "deferral_payments            107\n",
       "deferred_income               97\n",
       "director_fees                129\n",
       "email_address                 35\n",
       "exercised_stock_options       44\n",
       "expenses                      51\n",
       "from_messages                 60\n",
       "from_poi_to_this_person       60\n",
       "from_this_person_to_poi       60\n",
       "loan_advances                142\n",
       "long_term_incentive           80\n",
       "other                         53\n",
       "poi                            0\n",
       "restricted_stock              36\n",
       "restricted_stock_deferred    128\n",
       "salary                        51\n",
       "shared_receipt_with_poi       60\n",
       "to_messages                   60\n",
       "total_payments                21\n",
       "total_stock_value             20\n",
       "dtype: int64"
      ]
     },
     "execution_count": 34,
     "metadata": {},
     "output_type": "execute_result"
    }
   ],
   "source": [
    "df.replace(to_replace='NaN', value=numpy.nan, inplace=True)\n",
    "df.isnull().sum()"
   ]
  },
  {
   "cell_type": "markdown",
   "metadata": {
    "deletable": true,
    "editable": true
   },
   "source": [
    "The above table prints out the number of NaNs for each features. We can see that the most missing values is in the loan advances variable. In dealing with the missing data, I decided to remove the variables that have more than 73 missing variables. The reasoning is that since there are 146 people in the dataset, if a variable has more than half of the data points missing, it cannot provide enough information for training classifiers. Then we will remove that variable. For variables that have less missing values, we will use imputation using the median of that variable."
   ]
  },
  {
   "cell_type": "code",
   "execution_count": 35,
   "metadata": {
    "collapsed": false,
    "deletable": true,
    "editable": true
   },
   "outputs": [],
   "source": [
    "import sklearn\n",
    "# Removing column from database if counter > 73\n",
    "for column, series in df.iteritems():\n",
    "    if series.isnull().sum() > 73:\n",
    "        df.drop(column, axis=1, inplace=True)\n",
    "# Drop email address column\n",
    "if 'email_address' in list(df.columns.values):\n",
    "    df.drop('email_address', axis=1, inplace=True)\n",
    "\n",
    "impute = sklearn.preprocessing.Imputer(missing_values=numpy.nan, strategy='median', axis=0)\n",
    "impute.fit(df)\n",
    "df_imputed = pandas.DataFrame(impute.transform(df.copy(deep=True)))\n",
    "df_imputed.columns = list(df.columns.values)"
   ]
  },
  {
   "cell_type": "code",
   "execution_count": 9,
   "metadata": {
    "collapsed": false,
    "deletable": true,
    "editable": true,
    "scrolled": true
   },
   "outputs": [
    {
     "name": "stdout",
     "output_type": "stream",
     "text": [
      "       bonus  exercised_stock_options  expenses  from_messages  \\\n",
      "0   600000.0                1310813.5   94299.0           29.0   \n",
      "1  1200000.0                6680544.0   11200.0           41.0   \n",
      "2   350000.0                4890344.0   78552.0           41.0   \n",
      "3   769375.0                 651850.0   46950.0           12.0   \n",
      "4  1500000.0                5538001.0   34039.0           32.0   \n",
      "\n",
      "   from_poi_to_this_person  from_this_person_to_poi      other  poi  \\\n",
      "0                     38.0                      1.0     1740.0  0.0   \n",
      "1                     35.0                      8.0  2660303.0  0.0   \n",
      "2                     35.0                      8.0    12961.0  0.0   \n",
      "3                     10.0                      0.0    52382.0  0.0   \n",
      "4                     32.0                     21.0    11350.0  1.0   \n",
      "\n",
      "   restricted_stock    salary  shared_receipt_with_poi  to_messages  \\\n",
      "0          585062.0  365788.0                    702.0        807.0   \n",
      "1         3942714.0  267102.0                    740.5       1211.0   \n",
      "2         1788391.0  170941.0                    740.5       1211.0   \n",
      "3          386335.0  259996.0                     58.0        764.0   \n",
      "4          853064.0  243293.0                   1035.0       1045.0   \n",
      "\n",
      "   total_payments  total_stock_value  \n",
      "0       1061827.0           585062.0  \n",
      "1       5634343.0         10623258.0  \n",
      "2        211725.0          6678735.0  \n",
      "3       1101393.0          1038185.0  \n",
      "4        288682.0          6391065.0  \n"
     ]
    }
   ],
   "source": [
    "print df_imputed.head()"
   ]
  },
  {
   "cell_type": "markdown",
   "metadata": {
    "deletable": true,
    "editable": true
   },
   "source": [
    "I decided to impute using median value since there are some extreme values that skewed the distribution. Therefore, median is more appropriate."
   ]
  },
  {
   "cell_type": "markdown",
   "metadata": {
    "deletable": true,
    "editable": true
   },
   "source": [
    "### 2.2 Outliers"
   ]
  },
  {
   "cell_type": "code",
   "execution_count": 10,
   "metadata": {
    "collapsed": false,
    "deletable": true,
    "editable": true
   },
   "outputs": [
    {
     "data": {
      "image/png": "[encoded data removed]",
      "text/plain": [
       "<matplotlib.figure.Figure at 0x464c198>"
      ]
     },
     "metadata": {},
     "output_type": "display_data"
    },
    {
     "data": {
      "text/plain": [
       "<ggplot: (13618552)>"
      ]
     },
     "execution_count": 10,
     "metadata": {},
     "output_type": "execute_result"
    }
   ],
   "source": [
    "ggplot(aes(x='salary',y='bonus',color='poi'),data=df_imputed)+geom_point()"
   ]
  },
  {
   "cell_type": "markdown",
   "metadata": {
    "collapsed": false,
    "deletable": true,
    "editable": true
   },
   "source": [
    "From the above plot, we can see that there is a outlier with salary more than $2.5 million. Since this person is not a POI, we are safe to remove this point."
   ]
  },
  {
   "cell_type": "code",
   "execution_count": 36,
   "metadata": {
    "collapsed": false,
    "deletable": true,
    "editable": true
   },
   "outputs": [],
   "source": [
    "df_cleaned=df_imputed.loc[df_imputed.salary<2500000]"
   ]
  },
  {
   "cell_type": "markdown",
   "metadata": {
    "deletable": true,
    "editable": true
   },
   "source": [
    "We plot the scatterplot by salary and bonus again:"
   ]
  },
  {
   "cell_type": "code",
   "execution_count": 12,
   "metadata": {
    "collapsed": false,
    "deletable": true,
    "editable": true
   },
   "outputs": [
    {
     "data": {
      "image/png": "[encoded data removed]",
      "text/plain": [
       "<matplotlib.figure.Figure at 0x461bd68>"
      ]
     },
     "metadata": {},
     "output_type": "display_data"
    },
    {
     "data": {
      "text/plain": [
       "<ggplot: (16334123)>"
      ]
     },
     "execution_count": 12,
     "metadata": {},
     "output_type": "execute_result"
    }
   ],
   "source": [
    "ggplot(aes(x='salary',y='bonus',color='poi'),data=df_cleaned)+geom_point()"
   ]
  },
  {
   "cell_type": "markdown",
   "metadata": {
    "deletable": true,
    "editable": true
   },
   "source": [
    "### 2.3 Creating new features"
   ]
  },
  {
   "cell_type": "markdown",
   "metadata": {
    "deletable": true,
    "editable": true
   },
   "source": [
    "In this section, we will create some new features, calculate ratios that maybe more useful than counts. We noticed that there are variables that counts email interactions between a person with the person of interest(i.e. from_this_person_to_poi and from_poi_to_this_person). It would be interesting to see if there is any difference between POI and non-POI person's email interactions ."
   ]
  },
  {
   "cell_type": "markdown",
   "metadata": {
    "deletable": true,
    "editable": true
   },
   "source": [
    "We calculate variable POI_email_ratio as the total email interaction with POI by the total email of the person."
   ]
  },
  {
   "cell_type": "code",
   "execution_count": 7,
   "metadata": {
    "collapsed": false,
    "deletable": true,
    "editable": true
   },
   "outputs": [
    {
     "name": "stderr",
     "output_type": "stream",
     "text": [
      "C:\\Users\\kli\\AppData\\Local\\Continuum\\Anaconda3\\lib\\site-packages\\ipykernel\\__main__.py:1: SettingWithCopyWarning: \n",
      "A value is trying to be set on a copy of a slice from a DataFrame.\n",
      "Try using .loc[row_indexer,col_indexer] = value instead\n",
      "\n",
      "See the caveats in the documentation: http://pandas.pydata.org/pandas-docs/stable/indexing.html#indexing-view-versus-copy\n",
      "  if __name__ == '__main__':\n"
     ]
    }
   ],
   "source": [
    "df_cleaned['poi_email_ratio']=(df_cleaned['from_poi_to_this_person']+df_cleaned['from_this_person_to_poi'])/(df_cleaned['from_messages']+df_cleaned['to_messages']+1)"
   ]
  },
  {
   "cell_type": "code",
   "execution_count": 37,
   "metadata": {
    "collapsed": false,
    "deletable": true,
    "editable": true
   },
   "outputs": [
    {
     "name": "stdout",
     "output_type": "stream",
     "text": [
      "['poi', 'bonus', 'deferral_payments', 'deferred_income', 'director_fees', 'exercised_stock_options', 'expenses', 'loan_advances', 'long_term_incentive', 'other', 'restricted_stock', 'restricted_stock_deferred', 'salary', 'total_payments', 'total_stock_value', 'from_messages', 'from_poi_to_this_person', 'from_this_person_to_poi', 'shared_receipt_with_poi', 'to_messages', 'poi_email_ratio']\n"
     ]
    }
   ],
   "source": [
    "features_list=features_list+[\"poi_email_ratio\"]\n",
    "print features_list"
   ]
  },
  {
   "cell_type": "markdown",
   "metadata": {
    "deletable": true,
    "editable": true
   },
   "source": [
    "## 3. Feature Selection"
   ]
  },
  {
   "cell_type": "markdown",
   "metadata": {
    "deletable": true,
    "editable": true
   },
   "source": [
    "First, we use all data for variable selection. Prepare the data by separating features and labels and rescale the features so that all variables are on the same sacle."
   ]
  },
  {
   "cell_type": "code",
   "execution_count": 38,
   "metadata": {
    "collapsed": false,
    "deletable": true,
    "editable": true
   },
   "outputs": [],
   "source": [
    "from sklearn import preprocessing\n",
    "labels = df_cleaned['poi'].astype(int).as_matrix()\n",
    "features = df_cleaned.drop('poi',1).as_matrix()\n",
    "\n",
    "min_max_scaler = preprocessing.MinMaxScaler()\n",
    "features_scaled=min_max_scaler.fit_transform(features)\n"
   ]
  },
  {
   "cell_type": "code",
   "execution_count": 128,
   "metadata": {
    "collapsed": false
   },
   "outputs": [
    {
     "name": "stdout",
     "output_type": "stream",
     "text": [
      "Selected Features ['bonus', 'deferral_payments', 'exercised_stock_options', 'expenses', 'loan_advances', 'long_term_incentive', 'other', 'restricted_stock', 'salary', 'total_payments']\n",
      "Feature Scores ['2.33', '5.98', '0.71', '0.82', '1.51', '0.51', '0.69', '1.14', '2.51', '5.08']\n"
     ]
    }
   ],
   "source": [
    "from sklearn.feature_selection import SelectKBest,chi2\n",
    "kbest = SelectKBest(chi2, k=10)\n",
    "features_kbest=kbest.fit_transform(features_scaled,labels)\n",
    "features_selected=[features_list[i+1]for i in kbest.get_support(indices=True)]\n",
    "features_scores_selected=[feature_scores[i]for i in kbest.get_support(indices=True)]\n",
    "print 'Selected Features', features_selected\n",
    "print 'Feature Scores', features_scores_selected"
   ]
  },
  {
   "cell_type": "markdown",
   "metadata": {
    "deletable": true,
    "editable": true
   },
   "source": [
    "From the above code, we print out the features selected. The features that are contributing important information to the classifier is  Bonus, Deferral_payments, Loan_advances, Exercised Stock Options, Expenses, Long Term Incentive, other, Salary, Restricted Stocks and Total Payments. "
   ]
  },
  {
   "cell_type": "markdown",
   "metadata": {
    "deletable": true,
    "editable": true
   },
   "source": [
    "Next, we split the data into training and testing datasets and use the features we selected to train classifiers. Using training and testing datasets, or cross validation, is a method that is used to assess the performance of a classifier. We will use training set to fit the classifier and test the performance on testing dataset."
   ]
  },
  {
   "cell_type": "code",
   "execution_count": 44,
   "metadata": {
    "collapsed": false,
    "deletable": true,
    "editable": true
   },
   "outputs": [],
   "source": [
    "from sklearn.model_selection import train_test_split\n",
    "features_train, features_test, labels_train, labels_test = train_test_split(features_scaled,labels,test_size=0.3,random_state=422)"
   ]
  },
  {
   "cell_type": "markdown",
   "metadata": {
    "collapsed": true,
    "deletable": true,
    "editable": true
   },
   "source": [
    "### 3.1 Gaussian Naive Bayes"
   ]
  },
  {
   "cell_type": "code",
   "execution_count": 49,
   "metadata": {
    "collapsed": false,
    "deletable": true,
    "editable": true
   },
   "outputs": [
    {
     "name": "stdout",
     "output_type": "stream",
     "text": [
      "The accuracy score of this classifier is: 0.863636363636\n"
     ]
    }
   ],
   "source": [
    "from sklearn.naive_bayes import GaussianNB\n",
    "g_clf = GaussianNB()\n",
    "g_clf.fit(features_train,labels_train)\n",
    "pred=g_clf.predict(features_test)\n",
    "\n",
    "accuracy = accuracy_score(pred,labels_test)\n",
    "print \"The accuracy score of this classifier is: %s\" % accuracy\n"
   ]
  },
  {
   "cell_type": "markdown",
   "metadata": {
    "deletable": true,
    "editable": true
   },
   "source": [
    "### 3.2 Random Forest"
   ]
  },
  {
   "cell_type": "code",
   "execution_count": 125,
   "metadata": {
    "collapsed": false,
    "deletable": true,
    "editable": true,
    "scrolled": true
   },
   "outputs": [
    {
     "name": "stdout",
     "output_type": "stream",
     "text": [
      "The accuracy score of this classifier is: 0.886363636364\n"
     ]
    }
   ],
   "source": [
    "from sklearn.ensemble import RandomForestClassifier\n",
    "r_clf=RandomForestClassifier(random_state=35)\n",
    "r_clf.fit(features_train,labels_train)\n",
    "pred=r_clf.predict(features_test)\n",
    "accuracy = accuracy_score(pred,labels_test)\n",
    "print \"The accuracy score of this classifier is: %s\" % accuracy"
   ]
  },
  {
   "cell_type": "markdown",
   "metadata": {
    "deletable": true,
    "editable": true
   },
   "source": [
    "### 3.3 Adaboost Classifier"
   ]
  },
  {
   "cell_type": "code",
   "execution_count": 51,
   "metadata": {
    "collapsed": false,
    "deletable": true,
    "editable": true
   },
   "outputs": [
    {
     "name": "stdout",
     "output_type": "stream",
     "text": [
      "The accuracy score of this classifier is: 0.886363636364\n"
     ]
    }
   ],
   "source": [
    "from sklearn.ensemble import AdaBoostClassifier\n",
    "a_clf=AdaBoostClassifier()\n",
    "a_clf.fit(features_train,labels_train)\n",
    "pred=a_clf.predict(features_test)\n",
    "accuracy = accuracy_score(pred,labels_test)\n",
    "print \"The accuracy score of this classifier is: %s\" % accuracy"
   ]
  },
  {
   "cell_type": "markdown",
   "metadata": {
    "deletable": true,
    "editable": true
   },
   "source": [
    "\n",
    "### 3.4 Logistic Regression"
   ]
  },
  {
   "cell_type": "code",
   "execution_count": 52,
   "metadata": {
    "collapsed": false,
    "deletable": true,
    "editable": true
   },
   "outputs": [
    {
     "name": "stdout",
     "output_type": "stream",
     "text": [
      "The accuracy score of this classifier is: 0.909090909091\n"
     ]
    }
   ],
   "source": [
    "from sklearn.linear_model import LogisticRegression\n",
    "l_clf=LogisticRegression()\n",
    "l_clf.fit(features_train,labels_train)\n",
    "pred=l_clf.predict(features_test)\n",
    "accuracy = accuracy_score(pred,labels_test)\n",
    "print \"The accuracy score of this classifier is: %s\" % accuracy"
   ]
  },
  {
   "cell_type": "markdown",
   "metadata": {
    "deletable": true,
    "editable": true
   },
   "source": [
    "## 4. Tuning Classifier"
   ]
  },
  {
   "cell_type": "markdown",
   "metadata": {
    "collapsed": true,
    "deletable": true,
    "editable": true
   },
   "source": [
    "From previous section, we can see that random forest and logistic regression provides the best prediction accuracy. The next best classifier is Naive Bayes Classifier. The accuracy for adaboost is the lowest two. Next, we will tune some of these classifiers and see if we can improve the models."
   ]
  },
  {
   "cell_type": "markdown",
   "metadata": {
    "deletable": true,
    "editable": true
   },
   "source": [
    "### 4.1 Random Forest"
   ]
  },
  {
   "cell_type": "code",
   "execution_count": 124,
   "metadata": {
    "collapsed": false,
    "deletable": true,
    "editable": true
   },
   "outputs": [
    {
     "name": "stdout",
     "output_type": "stream",
     "text": [
      "The accuracy score of this classifier is: 0.931818181818\n",
      "The recall score of this classifier is: 0.5\n",
      "The precision score of this classifier is: 0.666666666667\n"
     ]
    }
   ],
   "source": [
    "r_clf=RandomForestClassifier(n_estimators=8,min_samples_split=3,max_features=7,random_state=35)\n",
    "r_clf.fit(features_train,labels_train)\n",
    "pred=r_clf.predict(features_test)\n",
    "\n",
    "accuracy = accuracy_score(pred,labels_test)\n",
    "recall=recall_score(labels_test,pred)\n",
    "precision=precision_score(labels_test,pred)\n",
    "print \"The accuracy score of this classifier is: %s\" % accuracy\n",
    "print \"The recall score of this classifier is: %s\" % recall\n",
    "print \"The precision score of this classifier is: %s\" % precision"
   ]
  },
  {
   "cell_type": "markdown",
   "metadata": {
    "deletable": true,
    "editable": true
   },
   "source": [
    "The precision score is 0.67 and recall score is 0.5. We have a good precision score and good recall score. This indicates that the classifier returns most of the predicted testing labels correctly. "
   ]
  },
  {
   "cell_type": "markdown",
   "metadata": {
    "deletable": true,
    "editable": true
   },
   "source": [
    "### 4.2 AdaBoost"
   ]
  },
  {
   "cell_type": "code",
   "execution_count": 126,
   "metadata": {
    "collapsed": false,
    "deletable": true,
    "editable": true
   },
   "outputs": [
    {
     "name": "stdout",
     "output_type": "stream",
     "text": [
      "The accuracy score of this classifier is: 0.931818181818\n",
      "The recall score of this classifier is: 0.25\n",
      "The precision score of this classifier is: 1.0\n"
     ]
    }
   ],
   "source": [
    "clf=AdaBoostClassifier(n_estimators=5,learning_rate=1.1,algorithm='SAMME')\n",
    "clf.fit(features_train,labels_train)\n",
    "pred=clf.predict(features_test)\n",
    "accuracy = accuracy_score(pred,labels_test)\n",
    "recall=recall_score(labels_test,pred)\n",
    "precision=precision_score(labels_test,pred)\n",
    "print \"The accuracy score of this classifier is: %s\" % accuracy\n",
    "print \"The recall score of this classifier is: %s\" % recall\n",
    "print \"The precision score of this classifier is: %s\" % precision"
   ]
  },
  {
   "cell_type": "markdown",
   "metadata": {
    "deletable": true,
    "editable": true
   },
   "source": [
    "We tuned Adaboost classifier using n_estimators, learning_rate and algorithm. After tuning, the accuracy score increased about 5%. "
   ]
  },
  {
   "cell_type": "markdown",
   "metadata": {
    "deletable": true,
    "editable": true
   },
   "source": [
    "## 5. Summary and Conclusion"
   ]
  },
  {
   "cell_type": "markdown",
   "metadata": {
    "collapsed": true,
    "deletable": true,
    "editable": true
   },
   "source": [
    "In this project, we cleaned and studied the Enron dataset to build classifiers to identify if a person would be person of interest (POI) using financial features and email interactions between people. We first cleaned and impute the missing values and then calculated some ratios that would be useful in building classifiers. And next we built several classifiers using the training data and test the prediction power using test data. "
   ]
  },
  {
   "cell_type": "markdown",
   "metadata": {
    "collapsed": true,
    "deletable": true,
    "editable": true
   },
   "source": [
    "In the last section, we tuned the classifiers and tried to improve their predicting accuracy. I believe the random forest classifier is the best method, based on precision and recall rates, for identifying POI employee in this study."
   ]
  },
  {
   "cell_type": "markdown",
   "metadata": {
    "collapsed": true,
    "deletable": true,
    "editable": true
   },
   "source": [
    "## 6. Reference"
   ]
  },
  {
   "cell_type": "markdown",
   "metadata": {
    "deletable": true,
    "editable": true
   },
   "source": [
    "sklearn help pages\n",
    "\n",
    "\n",
    "\n",
    "http://stackoverflow.com/questions/22361781/how-does-sklearn-random-forest-index-feature-importances\n",
    "\n",
    "https://stats.stackexchange.com/questions/58214/when-does-naive-bayes-perform-better-than-svm\n",
    "\n",
    "http://scikit-learn.org/stable/auto_examples/model_selection/plot_precision_recall.html\n",
    "\n",
    "http://optunity.readthedocs.io/en/latest/notebooks/notebooks/sklearn-automated-classification.html\n"
   ]
  },
  {
   "cell_type": "code",
   "execution_count": null,
   "metadata": {
    "collapsed": true,
    "deletable": true,
    "editable": true
   },
   "outputs": [],
   "source": []
  }
 ],
 "metadata": {
  "kernelspec": {
   "display_name": "Python 2",
   "language": "python",
   "name": "python2"
  },
  "language_info": {
   "codemirror_mode": {
    "name": "ipython",
    "version": 2
   },
   "file_extension": ".py",
   "mimetype": "text/x-python",
   "name": "python",
   "nbconvert_exporter": "python",
   "pygments_lexer": "ipython2",
   "version": "2.7.8"
  }
 },
 "nbformat": 4,
 "nbformat_minor": 2
}
